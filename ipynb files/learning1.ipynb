{
 "cells": [
  {
   "cell_type": "markdown",
   "metadata": {},
   "source": [
    "### Game Time \n",
    "   #### The game rules\n",
    "       1. Display a list of integers of length 3\n",
    "       2. ask user for index value\n",
    "       3. ask user to input a replacement value from 1-10\n",
    "       4. check if user wants to exit at any time"
   ]
  },
  {
   "cell_type": "code",
   "execution_count": 1,
   "metadata": {},
   "outputs": [],
   "source": []
  },
  {
   "cell_type": "code",
   "execution_count": 2,
   "metadata": {},
   "outputs": [],
   "source": [
    "def display_game(game_list):\n",
    "    print(\"Here is the current list: \")\n",
    "    print(game_list)"
   ]
  },
  {
   "cell_type": "code",
   "execution_count": 6,
   "metadata": {},
   "outputs": [
    {
     "name": "stdout",
     "output_type": "stream",
     "text": [
      "Here is the current list: \n",
      "[0, 1, 2]\n"
     ]
    }
   ],
   "source": [
    "# test cell\n",
    "display_game(Game_list)"
   ]
  },
  {
   "cell_type": "code",
   "execution_count": 3,
   "metadata": {
    "scrolled": false
   },
   "outputs": [],
   "source": [
    "def request_index_value():\n",
    "    choice = 'invalid value'\n",
    "    \n",
    "    while choice not in Valid_indexes:\n",
    "        choice = input('Pick a position (0, 1, 2): ')\n",
    "        \n",
    "        if choice not in Valid_indexes:\n",
    "            print(\"Sorry! Invalid choice.\")\n",
    "    \n",
    "    return int(choice)"
   ]
  },
  {
   "cell_type": "code",
   "execution_count": 4,
   "metadata": {},
   "outputs": [
    {
     "name": "stdout",
     "output_type": "stream",
     "text": [
      "Pick a position (0, 1, 2): abc\n",
      "Sorry! Invalid choice.\n",
      "Pick a position (0, 1, 2): 123\n",
      "Sorry! Invalid choice.\n",
      "Pick a position (0, 1, 2): 2\n"
     ]
    },
    {
     "data": {
      "text/plain": [
       "2"
      ]
     },
     "execution_count": 4,
     "metadata": {},
     "output_type": "execute_result"
    }
   ],
   "source": [
    "#test cell\n",
    "request_index_value()"
   ]
  },
  {
   "cell_type": "code",
   "execution_count": 7,
   "metadata": {},
   "outputs": [],
   "source": [
    "def request_replacement_value(game_list:list, position:int):\n",
    "    \n",
    "    usr_choice = input(\"Type a string to place at the postion\")\n",
    "    \n",
    "    game_list[position] = usr_choice\n",
    "    \n",
    "    return game_list"
   ]
  },
  {
   "cell_type": "code",
   "execution_count": 8,
   "metadata": {},
   "outputs": [
    {
     "name": "stdout",
     "output_type": "stream",
     "text": [
      "Here is the current list: \n",
      "[1, 2, 3]\n",
      "Pick a position (0, 1, 2): 2\n",
      "Type a string to place at the postionlol\n",
      "Here is the current list: \n",
      "[1, 2, 'lol']\n"
     ]
    }
   ],
   "source": [
    "#test cell\n",
    "dummy_list = [1, 2, 3]\n",
    "display_game(dummy_list)\n",
    "index = request_index_value()\n",
    "request_replacement_value(dummy_list, index)\n",
    "display_game(dummy_list)"
   ]
  },
  {
   "cell_type": "code",
   "execution_count": 10,
   "metadata": {},
   "outputs": [],
   "source": [
    "def game_on():\n",
    "    choice = 'invalid value'\n",
    "    \n",
    "    while choice.lower() not in ['y', 'n']:\n",
    "        choice = input('keep playing? (y or n): ')\n",
    "        \n",
    "        if choice.lower() not in ['y', 'n']:\n",
    "            print(\"Sorry! I don't understand, please choose y or n\")\n",
    "    \n",
    "    if choice.lower() == 'y':\n",
    "        return True\n",
    "    \n",
    "    else:\n",
    "        return False\n",
    "        "
   ]
  },
  {
   "cell_type": "code",
   "execution_count": 14,
   "metadata": {},
   "outputs": [
    {
     "name": "stdout",
     "output_type": "stream",
     "text": [
      "keep playing? (y or n): idk\n",
      "Sorry! I don't understand, please choose y or n\n",
      "keep playing? (y or n): y\n"
     ]
    },
    {
     "data": {
      "text/plain": [
       "True"
      ]
     },
     "execution_count": 14,
     "metadata": {},
     "output_type": "execute_result"
    }
   ],
   "source": [
    "game_on()"
   ]
  },
  {
   "cell_type": "code",
   "execution_count": null,
   "metadata": {},
   "outputs": [],
   "source": [
    "# GAME LOOP\n",
    "\n",
    "# Variables\n",
    "game_list = [0, 1, 2]\n",
    "game_on = True\n",
    "\n",
    "while game_on:\n",
    "    \n",
    "    display_game(game_list)\n",
    "    position = request_index_value()\n",
    "    game_list = request_replacement_value(game_list, position)\n",
    "    game_on = game_on()"
   ]
  }
 ],
 "metadata": {
  "kernelspec": {
   "display_name": "Python 3 (ipykernel)",
   "language": "python",
   "name": "python3"
  },
  "language_info": {
   "codemirror_mode": {
    "name": "ipython",
    "version": 3
   },
   "file_extension": ".py",
   "mimetype": "text/x-python",
   "name": "python",
   "nbconvert_exporter": "python",
   "pygments_lexer": "ipython3",
   "version": "3.9.12"
  }
 },
 "nbformat": 4,
 "nbformat_minor": 2
}
