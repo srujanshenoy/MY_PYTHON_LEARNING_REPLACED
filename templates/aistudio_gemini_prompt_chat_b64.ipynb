{
  "cells": [
    {
      "cell_type": "markdown",
      "metadata": {
        "id": "Tce3stUlHN0L"
      },
      "source": [
        "##### Copyright 2023 Google LLC"
      ]
    },
    {
      "cell_type": "code",
      "execution_count": null,
      "metadata": {
        "id": "tuOe1ymfHZPu"
      },
      "outputs": [],
      "source": [
        "#@title Licensed under the Apache License, Version 2.0 (the \"License\");\n",
        "# you may not use this file except in compliance with the License.\n",
        "# You may obtain a copy of the License at\n",
        "#\n",
        "# https://www.apache.org/licenses/LICENSE-2.0\n",
        "#\n",
        "# Unless required by applicable law or agreed to in writing, software\n",
        "# distributed under the License is distributed on an \"AS IS\" BASIS,\n",
        "# WITHOUT WARRANTIES OR CONDITIONS OF ANY KIND, either express or implied.\n",
        "# See the License for the specific language governing permissions and\n",
        "# limitations under the License."
      ]
    },
    {
      "cell_type": "markdown",
      "metadata": {
        "id": "FKwyTRdwB8aW"
      },
      "source": [
        "## Setup"
      ]
    },
    {
      "cell_type": "markdown",
      "metadata": {
        "id": "rlE8UqxrDIez"
      },
      "source": [
        "### Install & import\n"
      ]
    },
    {
      "cell_type": "code",
      "execution_count": 7,
      "metadata": {
        "id": "cZiU4TKzznh9"
      },
      "outputs": [],
      "source": [
        "!pip install -U -q google-generativeai"
      ]
    },
    {
      "cell_type": "code",
      "execution_count": 8,
      "metadata": {
        "id": "kWIuwKG2_oWE"
      },
      "outputs": [],
      "source": [
        "# import necessary modules.\n",
        "import google.generativeai as genai\n",
        "import json\n",
        "import base64\n",
        "import pathlib\n",
        "import pprint\n",
        "import requests\n",
        "import mimetypes\n",
        "from IPython.display import Markdown"
      ]
    },
    {
      "cell_type": "markdown",
      "metadata": {
        "id": "Fet3lFjdKHEM"
      },
      "source": [
        "## Set the API key"
      ]
    },
    {
      "cell_type": "markdown",
      "metadata": {
        "id": "ZoRWILAtCzBE"
      },
      "source": [
        "Add your API_KEY to the secrets manager in the left pannel \"🔑\"."
      ]
    },
    {
      "cell_type": "code",
      "execution_count": 9,
      "metadata": {
        "id": "LaLCwNlkCyQd"
      },
      "outputs": [],
      "source": [
        "from google.colab import userdata\n",
        "\n",
        "API_KEY=userdata.get('GOOGLE_API_KEY')"
      ]
    },
    {
      "cell_type": "code",
      "execution_count": 10,
      "metadata": {
        "id": "_SvYoR3WCeKr"
      },
      "outputs": [],
      "source": [
        "# Configure the client library by providing your API key.\n",
        "genai.configure(api_key=API_KEY)"
      ]
    },
    {
      "cell_type": "markdown",
      "metadata": {
        "id": "weo-o73WDpdm"
      },
      "source": [
        "### Parse the arguments"
      ]
    },
    {
      "cell_type": "code",
      "execution_count": 23,
      "metadata": {
        "id": "uIog-0SyDuIF"
      },
      "outputs": [],
      "source": [
        "model = \"gemini-2.0-flash-exp\" # @param {isTemplate: true}\n",
        "contents_b64 = \"W3sicm9sZSI6InVzZXIiLCAicGFydHMiIDogW3sidGV4dCI6ICJoZWxsbyJ9XX0sIHsicm9sZSI6ICJtb2RlbCIsICJwYXJ0cyI6IFt7InRleHQiOiAiSGVsbG8hIEhvdyBjYW4gSSBhc3Npc3QgeW91IHRvZGF5PyJ9XX1d\" # @param {isTemplate: true}\n",
        "generation_config_b64 = \"e30=\" # @param {isTemplate: true}\n",
        "safety_settings_b64 = \"e30=\" # @param {isTemplate: true}\n",
        "user_input_b64 = 'SG93IGRvZXMgZWxlY3RyaWNpdHkgd29yaz8=' #@param {isTemplate: true}\n",
        "\n",
        "contents = json.loads(base64.b64decode(contents_b64))\n",
        "generation_config = json.loads(base64.b64decode(generation_config_b64))\n",
        "safety_settings = json.loads(base64.b64decode(safety_settings_b64))\n",
        "user_input = base64.b64decode(user_input_b64).decode()\n",
        "stream = False"
      ]
    },
    {
      "cell_type": "code",
      "execution_count": 12,
      "metadata": {
        "id": "wBS8xNhN0x62",
        "outputId": "3f6f082c-8bd5-478c-a5fa-67a32f631f17",
        "colab": {
          "base_uri": "https://localhost:8080/"
        }
      },
      "outputs": [
        {
          "output_type": "execute_result",
          "data": {
            "text/plain": [
              "[{'role': 'user', 'parts': [{'text': 'hello'}]},\n",
              " {'role': 'model', 'parts': [{'text': 'Hello! How can I assist you today?'}]}]"
            ]
          },
          "metadata": {},
          "execution_count": 12
        }
      ],
      "source": [
        "contents"
      ]
    },
    {
      "cell_type": "code",
      "execution_count": 13,
      "metadata": {
        "id": "1681593ef561",
        "outputId": "d22fe79f-de5b-468a-e2f4-cd9561bde5dc",
        "colab": {
          "base_uri": "https://localhost:8080/"
        }
      },
      "outputs": [
        {
          "output_type": "execute_result",
          "data": {
            "text/plain": [
              "{}"
            ]
          },
          "metadata": {},
          "execution_count": 13
        }
      ],
      "source": [
        "generation_config"
      ]
    },
    {
      "cell_type": "code",
      "execution_count": 14,
      "metadata": {
        "id": "a2c31f8f1894",
        "outputId": "dfd362d2-255c-4eed-d819-78edb98df494",
        "colab": {
          "base_uri": "https://localhost:8080/"
        }
      },
      "outputs": [
        {
          "output_type": "execute_result",
          "data": {
            "text/plain": [
              "{}"
            ]
          },
          "metadata": {},
          "execution_count": 14
        }
      ],
      "source": [
        "safety_settings"
      ]
    },
    {
      "cell_type": "code",
      "execution_count": 15,
      "metadata": {
        "id": "4d17bac9fefc",
        "outputId": "d895a9d4-30b6-4f0c-e427-def6dd73954d",
        "colab": {
          "base_uri": "https://localhost:8080/",
          "height": 35
        }
      },
      "outputs": [
        {
          "output_type": "execute_result",
          "data": {
            "text/plain": [
              "'How does electricity work?'"
            ],
            "application/vnd.google.colaboratory.intrinsic+json": {
              "type": "string"
            }
          },
          "metadata": {},
          "execution_count": 15
        }
      ],
      "source": [
        "user_input"
      ]
    },
    {
      "cell_type": "markdown",
      "metadata": {
        "id": "E7zAD69vE92b"
      },
      "source": [
        "### Call the API"
      ]
    },
    {
      "cell_type": "code",
      "execution_count": 24,
      "metadata": {
        "id": "LB2LxPmAB95V"
      },
      "outputs": [],
      "source": [
        "# Call the model and print the response.\n",
        "gemini = genai.GenerativeModel(model_name=model)\n",
        "\n",
        "chat = gemini.start_chat(history=contents)\n",
        "\n",
        "response = chat.send_message(\n",
        "    user_input,\n",
        "    stream=stream)"
      ]
    },
    {
      "cell_type": "code",
      "execution_count": 25,
      "metadata": {
        "id": "Lm3RXwYuGtZK",
        "outputId": "00863e19-19f5-47b3-a6bd-e581d9cf7e5a",
        "colab": {
          "base_uri": "https://localhost:8080/",
          "height": 882
        }
      },
      "outputs": [
        {
          "output_type": "display_data",
          "data": {
            "text/plain": [
              "<IPython.core.display.Markdown object>"
            ],
            "text/markdown": "Okay, let's break down how electricity works! It can seem a bit mysterious, but at its core, it's all about the movement of tiny particles called **electrons**.\n\nHere's a simplified explanation:\n\n**1. The Basics: Atoms and Electrons**\n\n*   **Atoms:** Everything is made of atoms. Atoms have a central nucleus containing positively charged **protons** and neutral **neutrons**. Orbiting the nucleus are negatively charged **electrons**.\n*   **Electrons:** These are the key players. They're the particles that move and create electricity. In some materials (like metals), some electrons are loosely bound to their atoms and can easily move from one atom to another. These are called **free electrons**.\n\n**2. Creating a Flow of Electrons: Voltage**\n\n*   **Voltage (or Potential Difference):** Imagine a water tank connected to a pipe. If the tank is full of water, it has a higher \"potential\" to push water through the pipe than an empty tank. Voltage is like that potential for electrons. It's the force that pushes electrons to move from an area of high electron concentration to an area of low electron concentration. We measure voltage in **volts (V)**.\n*   **Sources of Voltage:** Things like batteries, generators, and solar panels create this voltage difference by separating charges (creating an area with a surplus of electrons and an area with a deficit).\n\n**3. The Movement of Electrons: Current**\n\n*   **Current:** When there's a voltage pushing them, electrons move through a material. This movement of electrons is called **electric current**. Think of it as the \"flow rate\" of electrons. We measure current in **amperes (A)**.\n*   **Conductors and Insulators:**\n    *   **Conductors:** Materials like metals (copper, silver, aluminum) have many free electrons, allowing current to flow easily through them.\n    *   **Insulators:** Materials like rubber, plastic, and glass have tightly bound electrons, making it difficult for current to flow.\n*   **Electric Circuit:** For electricity to be useful, we need a closed loop called a **circuit**. This circuit provides a path for electrons to flow from the voltage source, through the device (like a light bulb or a motor), and back to the voltage source.\n\n**4. Resistance: Hindering the Flow**\n\n*   **Resistance:** Not all materials allow electrons to flow equally. Resistance is the opposition to the flow of current. Think of a narrow pipe restricting the flow of water. We measure resistance in **ohms (Ω)**.\n*   **Components with Resistance:** Resistors, light bulbs, and motors have specific resistances that control how much current flows through them.\n*   **Ohm's Law:** This law describes the relationship between voltage, current, and resistance:  **Voltage (V) = Current (I) x Resistance (R)**\n\n**In summary, electricity works because:**\n\n1.  **Voltage** creates a potential difference, pushing electrons to move.\n2.  **Electrons** flow through a **circuit**, creating an **electric current**.\n3.  **Resistance** in the circuit controls the amount of current that flows.\n\n**Think of it like water flowing in a pipe:**\n\n*   **Voltage** is like the water pressure.\n*   **Current** is like the amount of water flowing through the pipe.\n*   **Resistance** is like the narrowness of the pipe.\n\n**Key Concepts to Remember:**\n\n*   **Electrons:** Tiny, negatively charged particles that move to create electricity.\n*   **Voltage:** The \"push\" that causes electrons to move.\n*   **Current:** The flow of electrons.\n*   **Resistance:** Opposition to the flow of electrons.\n*   **Circuit:** A closed path for electrons to flow.\n\n**This is a simplified explanation, but it captures the core principles of how electricity works. Do you have any further questions? We can dive deeper into specific areas if you'd like!**\n"
          },
          "metadata": {}
        }
      ],
      "source": [
        "display(Markdown(response.text))"
      ]
    },
    {
      "cell_type": "code",
      "execution_count": 18,
      "metadata": {
        "id": "JbKuUc3NGxYD",
        "outputId": "c5e25e63-1451-48e1-d83d-7d72ee6e98c2",
        "colab": {
          "base_uri": "https://localhost:8080/"
        }
      },
      "outputs": [
        {
          "output_type": "execute_result",
          "data": {
            "text/plain": []
          },
          "metadata": {},
          "execution_count": 18
        }
      ],
      "source": [
        "response.prompt_feedback"
      ]
    },
    {
      "cell_type": "code",
      "execution_count": 26,
      "metadata": {
        "id": "SLAaIq3kgwwJ",
        "outputId": "9a8a372f-4a8b-4255-9a22-c5bdee8881cb",
        "colab": {
          "base_uri": "https://localhost:8080/"
        }
      },
      "outputs": [
        {
          "output_type": "execute_result",
          "data": {
            "text/plain": [
              "[content {\n",
              "  parts {\n",
              "    text: \"Okay, let\\'s break down how electricity works! It can seem a bit mysterious, but at its core, it\\'s all about the movement of tiny particles called **electrons**.\\n\\nHere\\'s a simplified explanation:\\n\\n**1. The Basics: Atoms and Electrons**\\n\\n*   **Atoms:** Everything is made of atoms. Atoms have a central nucleus containing positively charged **protons** and neutral **neutrons**. Orbiting the nucleus are negatively charged **electrons**.\\n*   **Electrons:** These are the key players. They\\'re the particles that move and create electricity. In some materials (like metals), some electrons are loosely bound to their atoms and can easily move from one atom to another. These are called **free electrons**.\\n\\n**2. Creating a Flow of Electrons: Voltage**\\n\\n*   **Voltage (or Potential Difference):** Imagine a water tank connected to a pipe. If the tank is full of water, it has a higher \\\"potential\\\" to push water through the pipe than an empty tank. Voltage is like that potential for electrons. It\\'s the force that pushes electrons to move from an area of high electron concentration to an area of low electron concentration. We measure voltage in **volts (V)**.\\n*   **Sources of Voltage:** Things like batteries, generators, and solar panels create this voltage difference by separating charges (creating an area with a surplus of electrons and an area with a deficit).\\n\\n**3. The Movement of Electrons: Current**\\n\\n*   **Current:** When there\\'s a voltage pushing them, electrons move through a material. This movement of electrons is called **electric current**. Think of it as the \\\"flow rate\\\" of electrons. We measure current in **amperes (A)**.\\n*   **Conductors and Insulators:**\\n    *   **Conductors:** Materials like metals (copper, silver, aluminum) have many free electrons, allowing current to flow easily through them.\\n    *   **Insulators:** Materials like rubber, plastic, and glass have tightly bound electrons, making it difficult for current to flow.\\n*   **Electric Circuit:** For electricity to be useful, we need a closed loop called a **circuit**. This circuit provides a path for electrons to flow from the voltage source, through the device (like a light bulb or a motor), and back to the voltage source.\\n\\n**4. Resistance: Hindering the Flow**\\n\\n*   **Resistance:** Not all materials allow electrons to flow equally. Resistance is the opposition to the flow of current. Think of a narrow pipe restricting the flow of water. We measure resistance in **ohms (Ω)**.\\n*   **Components with Resistance:** Resistors, light bulbs, and motors have specific resistances that control how much current flows through them.\\n*   **Ohm\\'s Law:** This law describes the relationship between voltage, current, and resistance:  **Voltage (V) = Current (I) x Resistance (R)**\\n\\n**In summary, electricity works because:**\\n\\n1.  **Voltage** creates a potential difference, pushing electrons to move.\\n2.  **Electrons** flow through a **circuit**, creating an **electric current**.\\n3.  **Resistance** in the circuit controls the amount of current that flows.\\n\\n**Think of it like water flowing in a pipe:**\\n\\n*   **Voltage** is like the water pressure.\\n*   **Current** is like the amount of water flowing through the pipe.\\n*   **Resistance** is like the narrowness of the pipe.\\n\\n**Key Concepts to Remember:**\\n\\n*   **Electrons:** Tiny, negatively charged particles that move to create electricity.\\n*   **Voltage:** The \\\"push\\\" that causes electrons to move.\\n*   **Current:** The flow of electrons.\\n*   **Resistance:** Opposition to the flow of electrons.\\n*   **Circuit:** A closed path for electrons to flow.\\n\\n**This is a simplified explanation, but it captures the core principles of how electricity works. Do you have any further questions? We can dive deeper into specific areas if you\\'d like!**\\n\"\n",
              "  }\n",
              "  role: \"model\"\n",
              "}\n",
              "finish_reason: STOP\n",
              "safety_ratings {\n",
              "  category: HARM_CATEGORY_HATE_SPEECH\n",
              "  probability: NEGLIGIBLE\n",
              "}\n",
              "safety_ratings {\n",
              "  category: HARM_CATEGORY_DANGEROUS_CONTENT\n",
              "  probability: NEGLIGIBLE\n",
              "}\n",
              "safety_ratings {\n",
              "  category: HARM_CATEGORY_HARASSMENT\n",
              "  probability: NEGLIGIBLE\n",
              "}\n",
              "safety_ratings {\n",
              "  category: HARM_CATEGORY_SEXUALLY_EXPLICIT\n",
              "  probability: NEGLIGIBLE\n",
              "}\n",
              "citation_metadata {\n",
              "  citation_sources {\n",
              "    start_index: 301\n",
              "    end_index: 432\n",
              "  }\n",
              "}\n",
              "avg_logprobs: -0.34096737782067055\n",
              "]"
            ]
          },
          "metadata": {},
          "execution_count": 26
        }
      ],
      "source": [
        "response.candidates"
      ]
    }
  ],
  "metadata": {
    "colab": {
      "collapsed_sections": [
        "Tce3stUlHN0L"
      ],
      "name": "aistudio_gemini_prompt_chat_b64.ipynb",
      "provenance": []
    },
    "kernelspec": {
      "display_name": "Python 3",
      "name": "python3"
    }
  },
  "nbformat": 4,
  "nbformat_minor": 0
}