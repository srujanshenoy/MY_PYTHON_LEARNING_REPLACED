{
 "cells": [
  {
   "cell_type": "code",
   "execution_count": 15,
   "id": "b677c0ac",
   "metadata": {},
   "outputs": [
    {
     "name": "stdout",
     "output_type": "stream",
     "text": [
      "derk\n",
      "peter\n",
      "1236547890\n",
      "lol@mailclient.com\n"
     ]
    }
   ],
   "source": [
    "import numpy as np\n",
    "import pandas as pd\n",
    "\n",
    "list_1 = ['a', 'b', 'c', 'd', 'e', 'f']\n",
    "labels = [1, 2, 3, 4, 5, 6]\n",
    "ser_1  = pd.Series(data=list_1, index=labels)\n",
    "ser_1\n",
    "\n",
    "arr_1 = np.array([1, 2, 3, 4])\n",
    "ser_2 = pd.Series(arr_1)\n",
    "ser_2\n",
    "\n",
    "derksinfo = {\"f_name\" : \"derk\",\n",
    "              \"l_name\" : \"peter\",\n",
    "              \"ph_no\" : 1236547890, \n",
    "              \"email_ID\" : \"lol@mailclient.com\"}\n",
    "\n",
    "derksinfo = pd.Series(derksinfo)\n",
    "print(derksinfo.f_name)\n",
    "print(derksinfo.l_name)\n",
    "print(derksinfo.ph_no)\n",
    "print(derksinfo.email_ID)"
   ]
  },
  {
   "cell_type": "code",
   "execution_count": null,
   "id": "26dff960",
   "metadata": {},
   "outputs": [],
   "source": []
  }
 ],
 "metadata": {
  "kernelspec": {
   "display_name": "Python 3 (ipykernel)",
   "language": "python",
   "name": "python3"
  },
  "language_info": {
   "codemirror_mode": {
    "name": "ipython",
    "version": 3
   },
   "file_extension": ".py",
   "mimetype": "text/x-python",
   "name": "python",
   "nbconvert_exporter": "python",
   "pygments_lexer": "ipython3",
   "version": "3.9.12"
  }
 },
 "nbformat": 4,
 "nbformat_minor": 5
}
